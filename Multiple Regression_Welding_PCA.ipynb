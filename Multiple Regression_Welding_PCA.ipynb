{
 "cells": [
  {
   "cell_type": "code",
   "execution_count": 78,
   "metadata": {},
   "outputs": [],
   "source": [
    "import numpy as np\n",
    "import pandas as pd\n",
    "from matplotlib import pyplot as plt\n"
   ]
  },
  {
   "cell_type": "code",
   "execution_count": 79,
   "metadata": {
    "scrolled": true
   },
   "outputs": [
    {
     "name": "stdout",
     "output_type": "stream",
     "text": [
      "the data size is: (480, 6)\n",
      "   TrialNo  Current  Angle  Speed   Time  Height\n",
      "0        1      160      0  0.005  5.003      39\n",
      "1        1      160      0  0.005  5.502      39\n",
      "2        1      160      0  0.005  5.969      39\n",
      "3        1      160      0  0.005  6.453      38\n",
      "4        1      160      0  0.005  6.920      40\n",
      "if the data has nan entry: False\n"
     ]
    }
   ],
   "source": [
    "#load data\n",
    "data = pd.read_excel('Welding_Data.xlsx') #using pandas to load the excel file\n",
    "print(f'the data size is: {data.shape}') #check the number of samples and number of variables\n",
    "print(data.head(5))\n",
    "print(f'if the data has nan entry: {np.any(data.isnull() == True)}')\n",
    "\n",
    "#data = data.dropna(axis=0, how='any') #drop nan from the data"
   ]
  },
  {
   "cell_type": "code",
   "execution_count": 80,
   "metadata": {},
   "outputs": [
    {
     "name": "stdout",
     "output_type": "stream",
     "text": [
      "(480, 3) (480,)\n"
     ]
    }
   ],
   "source": [
    "# prepare variables and target\n",
    "\n",
    "X = data.loc[:,['Current','Angle','Speed']] #Variables, or using data.iloc[:,1:4]\n",
    "Y = data.loc[:,'Height'] # Target\n",
    "\n",
    "X = X.to_numpy() #convert data frame to numpy array\n",
    "Y = Y.to_numpy()\n",
    "\n",
    "print(X.shape, Y.shape) #if our prediciton output is (480,1), broadcasting applies, may mess with the prediciton evaluation"
   ]
  },
  {
   "cell_type": "code",
   "execution_count": 81,
   "metadata": {},
   "outputs": [
    {
     "name": "stdout",
     "output_type": "stream",
     "text": [
      "(480, 2)\n"
     ]
    }
   ],
   "source": [
    "# Data normalization\n",
    "for i in range(X.shape[1]):\n",
    "    data_ = X[:,i]\n",
    "    X[:,i] = (data_-np.amin(data_))/(np.amax(data_)-np.amin(data_)) #(data-min)/(max-min) to range[0 1]\n",
    "    \n",
    "from sklearn.decomposition import PCA\n",
    "pca = PCA(n_components = 1) #build a PCA object, aims to get 2 PCs\n",
    "\n",
    "PCs = pca.fit_transform(X) # get the PCs\n",
    "X = PCs\n",
    "    \n",
    "const = np.ones((len(X),1)) #constant colume\n",
    "X = np.concatenate((X,const),axis = 1) #group normalized input columes and constant colume together\n",
    "print(X.shape)"
   ]
  },
  {
   "cell_type": "code",
   "execution_count": 82,
   "metadata": {},
   "outputs": [
    {
     "name": "stdout",
     "output_type": "stream",
     "text": [
      "336\n",
      "(336, 2) (144, 2) (336,) (144,)\n"
     ]
    }
   ],
   "source": [
    "# split training and testing data subsets\n",
    "# shuffle index, so that the training scenarios and testing scenarios are the same\n",
    "# 70% training and 30% testing\n",
    "index = np.arange(len(X))\n",
    "np.random.shuffle(index)\n",
    "breakpoint = int(np.floor(0.7*len(index))) #np.ceil\n",
    "print(breakpoint)\n",
    "\n",
    "X_Train = X[index[0:breakpoint],:]\n",
    "Y_Train = Y[index[0:breakpoint]]\n",
    "X_Test = X[index[breakpoint:],:]\n",
    "Y_Test = Y[index[breakpoint:]]\n",
    "print(X_Train.shape, X_Test.shape, Y_Train.shape, Y_Test.shape)"
   ]
  },
  {
   "cell_type": "code",
   "execution_count": 83,
   "metadata": {},
   "outputs": [],
   "source": [
    "#cost function\n",
    "def cost_function(X,Y,B): #B are the coefficients in MR\n",
    "    J = np.sum((X.dot(B)-Y)**2)/(2*len(X))\n",
    "    return J"
   ]
  },
  {
   "cell_type": "code",
   "execution_count": 84,
   "metadata": {},
   "outputs": [],
   "source": [
    "# gradient descent\n",
    "def gradient_descent(X, Y, B, alpha, Iterations): #alpha: learning rate\n",
    "    \n",
    "    loss_history = np.zeros(Iterations)\n",
    "    \n",
    "    for i in range(Iterations):\n",
    "        gradient = X.T.dot(X.dot(B)-Y)/len(X)\n",
    "        B = B - alpha*gradient\n",
    "        loss = cost_function(X,Y,B)\n",
    "        loss_history[i] = loss\n",
    "    \n",
    "    return B, loss_history"
   ]
  },
  {
   "cell_type": "code",
   "execution_count": 85,
   "metadata": {},
   "outputs": [
    {
     "name": "stdout",
     "output_type": "stream",
     "text": [
      "(2,)\n"
     ]
    },
    {
     "data": {
      "image/png": "[encoded data removed]",
      "text/plain": [
       "<Figure size 640x480 with 1 Axes>"
      ]
     },
     "metadata": {},
     "output_type": "display_data"
    }
   ],
   "source": [
    "# training\n",
    "B = np.random.random(X_Train.shape[1])\n",
    "alpha = 0.5 #try 0.1,0.01\n",
    "Iterations = 1000\n",
    "newB, loss_history = gradient_descent(X_Train, Y_Train, B, alpha, Iterations)\n",
    "\n",
    "plt.plot(np.arange(Iterations),loss_history)\n",
    "print(newB.shape)"
   ]
  },
  {
   "cell_type": "code",
   "execution_count": 86,
   "metadata": {},
   "outputs": [
    {
     "name": "stdout",
     "output_type": "stream",
     "text": [
      "8.847817907436035\n",
      "0.27158831727895816\n"
     ]
    },
    {
     "data": {
      "image/png": "[encoded data removed]",
      "text/plain": [
       "<Figure size 640x480 with 1 Axes>"
      ]
     },
     "metadata": {},
     "output_type": "display_data"
    }
   ],
   "source": [
    "#testing\n",
    "Y_predicted = X_Test.dot(newB)\n",
    "plt.scatter(Y_Test,Y_predicted)\n",
    "\n",
    "#performance evaluation, for regression problems, we need R2 and RMSE\n",
    "def RMSE(Y,Y_pred):\n",
    "    RMSE = np.sqrt(np.mean((Y-Y_pred)**2))\n",
    "    return RMSE\n",
    "\n",
    "def R2(Y,Y_pred):\n",
    "    sst = np.sum((Y-Y.mean())**2)\n",
    "    ssr = np.sum((Y-Y_pred)**2)\n",
    "    R2 = 1-(ssr/sst)\n",
    "    return R2\n",
    "\n",
    "print(RMSE(Y_Test,Y_predicted))\n",
    "print(R2(Y_Test,Y_predicted))"
   ]
  },
  {
   "cell_type": "code",
   "execution_count": 87,
   "metadata": {},
   "outputs": [
    {
     "name": "stdout",
     "output_type": "stream",
     "text": [
      "8.847817907436037\n",
      "0.27158831727895794\n"
     ]
    },
    {
     "data": {
      "image/png": "[encoded data removed]",
      "text/plain": [
       "<Figure size 640x480 with 1 Axes>"
      ]
     },
     "metadata": {},
     "output_type": "display_data"
    }
   ],
   "source": [
    "from sklearn import linear_model\n",
    "linear = linear_model.LinearRegression() #create an object of multiple regression model\n",
    "linear.fit(X_Train,Y_Train) #training process\n",
    "Y_predicted_1 = linear.predict(X_Test)\n",
    "plt.scatter(Y_Test,Y_predicted_1)\n",
    "print(RMSE(Y_Test,Y_predicted_1))\n",
    "print(R2(Y_Test,Y_predicted_1))"
   ]
  },
  {
   "cell_type": "code",
   "execution_count": null,
   "metadata": {},
   "outputs": [],
   "source": []
  }
 ],
 "metadata": {
  "kernelspec": {
   "display_name": "Python 3 (ipykernel)",
   "language": "python",
   "name": "python3"
  },
  "language_info": {
   "codemirror_mode": {
    "name": "ipython",
    "version": 3
   },
   "file_extension": ".py",
   "mimetype": "text/x-python",
   "name": "python",
   "nbconvert_exporter": "python",
   "pygments_lexer": "ipython3",
   "version": "3.9.12"
  }
 },
 "nbformat": 4,
 "nbformat_minor": 2
}
