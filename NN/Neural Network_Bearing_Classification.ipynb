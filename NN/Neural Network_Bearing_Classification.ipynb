{
 "cells": [
  {
   "cell_type": "code",
   "execution_count": 1,
   "metadata": {},
   "outputs": [],
   "source": [
    "import numpy as np\n",
    "from numpy.linalg import norm\n",
    "import matplotlib.pyplot as plt\n",
    "import scipy.io as sio\n",
    "from scipy.stats import kurtosis\n",
    "np.random.seed(1)\n",
    "import torch"
   ]
  },
  {
   "cell_type": "code",
   "execution_count": 2,
   "metadata": {},
   "outputs": [],
   "source": [
    "# Data generation\n",
    "mat1 = sio.loadmat('Bearing/N_0.mat')\n",
    "data1 = mat1['X097_DE_time']\n",
    "mat2 = sio.loadmat('Bearing/IR007_0.mat')\n",
    "data2 = mat2['X105_DE_time']\n",
    "x1 = np.zeros([50,4])\n",
    "x2 = np.zeros([50,4])\n",
    "for i in range(50):\n",
    "    x1[i, 0] = np.mean(data1[i*2000:(i+1)*2000]) \n",
    "    x1[i, 1] = np.std(data1[i*2000:(i+1)*2000]) \n",
    "    x1[i, 2] = kurtosis(data1[i*2000:(i+1)*2000])\n",
    "    x1[i, 3] = 0 #0 refers to normal\n",
    "    x2[i, 0] = np.mean(data2[i*2000:(i+1)*2000]) \n",
    "    x2[i, 1] = np.std(data2[i*2000:(i+1)*2000]) \n",
    "    x2[i, 2] = kurtosis(data2[i*2000:(i+1)*2000])\n",
    "    x2[i, 3] = 1 #1 refers to faulty type\n",
    "\n",
    "\n",
    "# feature normalization\n",
    "for i in range(x1.shape[1]-2):\n",
    "   data_ = x1[:,i]\n",
    "   x1[:,i] = (data_-np.amin(data_))/(np.amax(data_)-np.amin(data_))\n",
    "for i in range(x2.shape[1]-2):\n",
    "   data_ = x2[:,i]\n",
    "   x2[:,i] = (data_-np.amin(data_))/(np.amax(data_)-np.amin(data_))\n",
    "    \n",
    "X = np.concatenate((x1,x2), axis = 0) # X: 100*4\n",
    "# split the training and test datasets\n",
    "index = np.arange(X.shape[0]) #index: 0:99\n",
    "np.random.shuffle(index) #shuffle the index\n",
    "m = np.ceil(0.7*X.shape[0]) #training:test = 7:3\n",
    "m = int(m) #split point\n",
    "X_Train = X[index[0:m],0:3]\n",
    "X_Test = X[index[m:-1],0:3]\n",
    "Y_Train = X[index[0:m],-1]\n",
    "Y_Test = X[index[m:-1],-1]\n",
    "\n",
    "# convert numpy array to torch tensor\n",
    "X_Train_Tensor = torch.tensor(X_Train).float()\n",
    "X_Test_Tensor = torch.tensor(X_Test).float()\n",
    "Y_Train_Tensor = torch.tensor(Y_Train).long()\n",
    "Y_Test_Tensor = torch.tensor(Y_Test).long()"
   ]
  },
  {
   "cell_type": "code",
   "execution_count": 3,
   "metadata": {},
   "outputs": [
    {
     "data": {
      "text/plain": [
       "[<matplotlib.lines.Line2D at 0x2beea3d8790>]"
      ]
     },
     "execution_count": 3,
     "metadata": {},
     "output_type": "execute_result"
    },
    {
     "data": {
      "image/png": "[encoded data removed]",
      "text/plain": [
       "<Figure size 640x480 with 1 Axes>"
      ]
     },
     "metadata": {},
     "output_type": "display_data"
    }
   ],
   "source": [
    "class Net(torch.nn.Module):\n",
    "    def __init__(self, layer_numbers):\n",
    "        super().__init__()\n",
    "        self.hidden = torch.nn.Linear(layer_numbers[0],layer_numbers[1],bias = False)\n",
    "        self.output = torch.nn.Linear(layer_numbers[1],layer_numbers[2],bias = False)\n",
    "        self.sigmoid = torch.nn.Sigmoid()\n",
    "    \n",
    "    def forward(self, x):\n",
    "        x = self.hidden(x) #x: 70*3 -> 70*7\n",
    "        x = self.sigmoid(x)#x: 70*7 -> 70*7\n",
    "        x = self.output(x) #x: 70*7 -> 70*2\n",
    "        return x\n",
    "\n",
    "layer_numbers = [3,7,2]\n",
    "epochs = 500\n",
    "net = Net(layer_numbers)\n",
    "\n",
    "criterion = torch.nn.CrossEntropyLoss()\n",
    "optimizer = torch.optim.Adam(net.parameters(), lr = 0.1)\n",
    "loss_history = np.zeros(epochs)\n",
    "\n",
    "for epoch in range(epochs):\n",
    "    #forward process\n",
    "    Y_pred = net(X_Train_Tensor)\n",
    "    \n",
    "    #loss\n",
    "    loss = criterion(Y_pred,Y_Train_Tensor)\n",
    "    #calculate gradients in backpropagation\n",
    "    optimizer.zero_grad()\n",
    "    loss.backward()\n",
    "    #update weights\n",
    "    optimizer.step()\n",
    "    \n",
    "    loss_history[epoch] = loss\n",
    "\n",
    "plt.plot(np.arange(epochs),loss_history)  "
   ]
  },
  {
   "cell_type": "code",
   "execution_count": 4,
   "metadata": {},
   "outputs": [
    {
     "name": "stdout",
     "output_type": "stream",
     "text": [
      "tensor([1, 1, 0, 1, 1, 0, 0, 1, 1, 1, 1, 0, 1, 1, 1, 0, 0, 0, 1, 0, 0, 1, 1, 1,\n",
      "        0, 0, 1, 0, 0, 0, 1, 1, 1, 1, 1, 0, 0, 1, 0, 0, 1, 1, 1, 0, 1, 0, 0, 1,\n",
      "        0, 1, 0, 1, 0, 0, 1, 0, 0, 1, 0, 1, 0, 1, 1, 0, 0, 1, 0, 1, 0, 1])\n",
      "tensor([True, True, True, True, True, True, True, True, True, True, True, True,\n",
      "        True, True, True, True, True, True, True, True, True, True, True, True,\n",
      "        True, True, True, True, True, True, True, True, True, True, True, True,\n",
      "        True, True, True, True, True, True, True, True, True, True, True, True,\n",
      "        True, True, True, True, True, True, True, True, True, True, True, True,\n",
      "        True, True, True, True, True, True, True, True, True, True])\n"
     ]
    }
   ],
   "source": [
    "Y_Prediction_Train = torch.max(net(X_Train_Tensor),1)[1] #70*2 ->70*1(maximum output), np.argmax, [1] index fo the maximum value\n",
    "print(Y_Prediction_Train)\n",
    "print(Y_Prediction_Train == Y_Train_Tensor)"
   ]
  },
  {
   "cell_type": "code",
   "execution_count": 5,
   "metadata": {},
   "outputs": [
    {
     "name": "stdout",
     "output_type": "stream",
     "text": [
      "tensor([True, True, True, True, True, True, True, True, True, True, True, True,\n",
      "        True, True, True, True, True, True, True, True, True, True, True, True,\n",
      "        True, True, True, True, True])\n"
     ]
    }
   ],
   "source": [
    "Y_Prediction_Test = torch.max(net(X_Test_Tensor),1)[1] #70*2 ->70*1(maximum output), np.argmax, [1] index fo the maximum value\n",
    "print(Y_Prediction_Test == Y_Test_Tensor)"
   ]
  },
  {
   "cell_type": "code",
   "execution_count": null,
   "metadata": {},
   "outputs": [],
   "source": []
  }
 ],
 "metadata": {
  "kernelspec": {
   "display_name": "Python 3 (ipykernel)",
   "language": "python",
   "name": "python3"
  },
  "language_info": {
   "codemirror_mode": {
    "name": "ipython",
    "version": 3
   },
   "file_extension": ".py",
   "mimetype": "text/x-python",
   "name": "python",
   "nbconvert_exporter": "python",
   "pygments_lexer": "ipython3",
   "version": "3.9.5"
  }
 },
 "nbformat": 4,
 "nbformat_minor": 2
}
